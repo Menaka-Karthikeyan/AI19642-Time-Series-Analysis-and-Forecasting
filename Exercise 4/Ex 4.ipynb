{
  "nbformat": 4,
  "nbformat_minor": 0,
  "metadata": {
    "colab": {
      "provenance": []
    },
    "kernelspec": {
      "name": "python3",
      "display_name": "Python 3"
    },
    "language_info": {
      "name": "python"
    }
  },
  "cells": [
    {
      "cell_type": "code",
      "source": [
        "import pandas as pd\n",
        "from statsmodels.tsa.stattools import adfuller"
      ],
      "metadata": {
        "id": "BrX8L4K4ZfHX"
      },
      "execution_count": 9,
      "outputs": []
    },
    {
      "cell_type": "code",
      "source": [
        "df = pd.read_csv('/amazon.csv', encoding='latin1')"
      ],
      "metadata": {
        "id": "E_0EnxexYuvG"
      },
      "execution_count": 10,
      "outputs": []
    },
    {
      "cell_type": "code",
      "source": [
        "month_map = {\n",
        "   'Janeiro': 'January', 'Fevereiro': 'February', 'Março': 'March',\n",
        "   'Abril': 'April', 'Maio': 'May', 'Junho': 'June',\n",
        "   'Julho': 'July', 'Agosto': 'August', 'Setembro': 'September',\n",
        "   'Outubro': 'October', 'Novembro': 'November', 'Dezembro': 'December'\n",
        "}\n",
        "\n",
        "df['month'] = df['month'].map(month_map)\n",
        "df['date'] = pd.to_datetime(df['month'] + ' ' + df['year'].astype(str), format='%B %Y')\n",
        "df.set_index('date', inplace=True)\n",
        "\n",
        "df_monthly = df.resample('ME')['number'].sum()\n",
        "df_yearly = df.resample('YE')['number'].sum()"
      ],
      "metadata": {
        "id": "V41EvCHzYxpW"
      },
      "execution_count": 11,
      "outputs": []
    },
    {
      "cell_type": "code",
      "source": [
        "adf_test = adfuller(df_monthly.dropna())\n",
        "print(\"ADF Statistic:\", adf_test[0])\n",
        "print(\"p-value:\", adf_test[1])\n",
        "print(\"Critical Values:\")\n",
        "for key, value in adf_test[4].items():\n",
        "    print(f\"\\t{key}: {value}\")"
      ],
      "metadata": {
        "colab": {
          "base_uri": "https://localhost:8080/"
        },
        "id": "2Ee0URE_Y-at",
        "outputId": "53749bdc-9043-4adf-c350-ba07ab59f3ba"
      },
      "execution_count": 12,
      "outputs": [
        {
          "output_type": "stream",
          "name": "stdout",
          "text": [
            "ADF Statistic: -2.6841335058482003\n",
            "p-value: 0.07682433797724766\n",
            "Critical Values:\n",
            "\t1%: -3.4594900381360034\n",
            "\t5%: -2.8743581895178485\n",
            "\t10%: -2.573601605503697\n"
          ]
        }
      ]
    },
    {
      "cell_type": "code",
      "source": [
        "if adf_test[1] <= 0.05:\n",
        "    print(\"The time series is stationary.\")\n",
        "else:\n",
        "    print(\"The time series is not stationary.\")"
      ],
      "metadata": {
        "colab": {
          "base_uri": "https://localhost:8080/"
        },
        "id": "67t_M0ZwZAZt",
        "outputId": "e5e28dc5-0adf-4d34-ed6e-ae86f036e7b8"
      },
      "execution_count": 13,
      "outputs": [
        {
          "output_type": "stream",
          "name": "stdout",
          "text": [
            "The time series is not stationary.\n"
          ]
        }
      ]
    }
  ]
}